{
 "cells": [
  {
   "cell_type": "markdown",
   "id": "da587728",
   "metadata": {},
   "source": [
    "# MotleyCoder: a set of tools and utilties for coding agents\n",
    "\n",
    "Getting an agent to write sensible code is a challenging task. Besides the concerns of correctness and efficiency, the agent must be able to interact with the code base in first place. This is where MotleyCoder comes in. MotleyCoder is a set of tools and utilities that help agents write better code.\n",
    "\n",
    "This notebook is a brief demo of MotleyCoder in action. You can regard the agent we use towards the end of this notebook as a ready-to-use AI coder. Feel free to customize it or create your own coding agent: MotleyCoder is built just for that.\n",
    "\n",
    "MotleyCoder consists of the following main elements:\n",
    "- `RepoMap`: provides the agent with an initial overview of the parts of the codebase relevant to the current task, so that the agent at least knows where to start.\n",
    "- `InspectEntityTool`: a tool given to the agent so it can inspect and navigate the codebase, read the code of specific entities or files, and list directories.\n",
    "- `FileEditTool`: a tool that allows editing code in a way an LLM can comprehend.\n",
    "\n",
    "Plain RAG does not work well with code, because the important connections between entities in it are simply ignored.\n",
    "MotleyCoder uses a combination of static code analysis and retrieval techniques to build a map of the codebase, with an emphasis on the parts relevant to the task. The map is then rendered into a view suitable for feeding into an LLM."
   ]
  },
  {
   "cell_type": "code",
   "execution_count": 1,
   "id": "a76a554a",
   "metadata": {},
   "outputs": [],
   "source": [
    "# append ../motleycrew to sys.path\n",
    "import sys\n",
    "sys.path.append('../motleycrew')"
   ]
  },
  {
   "cell_type": "code",
   "execution_count": 2,
   "id": "f1d9e641",
   "metadata": {},
   "outputs": [
    {
     "data": {
      "text/plain": [
       "True"
      ]
     },
     "execution_count": 2,
     "metadata": {},
     "output_type": "execute_result"
    }
   ],
   "source": [
    "from dotenv import load_dotenv\n",
    "\n",
    "load_dotenv()"
   ]
  },
  {
   "cell_type": "code",
   "execution_count": 3,
   "id": "c53923f0",
   "metadata": {},
   "outputs": [],
   "source": [
    "# We'll try out the code our agents write!\n",
    "%load_ext autoreload\n",
    "%autoreload 2"
   ]
  },
  {
   "cell_type": "code",
   "execution_count": 4,
   "id": "initial_id",
   "metadata": {
    "ExecuteTime": {
     "end_time": "2024-08-21T18:05:29.393724Z",
     "start_time": "2024-08-21T18:05:29.277195Z"
    },
    "collapsed": true
   },
   "outputs": [],
   "source": [
    "from motleycoder.codemap.file_group import FileGroup\n",
    "from motleycoder.codemap.repomap import RepoMap\n",
    "from motleycoder.repo import GitRepo\n",
    "from motleycoder.tools import FileEditTool, InspectEntityTool\n",
    "from motleycoder.user_interface import UserInterface\n",
    "\n",
    "from motleycrew.agents.langchain import ReActToolCallingMotleyAgent\n",
    "from motleycrew.common import LLMFramework, LLMFamily\n",
    "from motleycrew.common.llms import init_llm\n",
    "from motleycrew.common import configure_logging\n",
    "\n",
    "configure_logging(verbose=True)"
   ]
  },
  {
   "cell_type": "markdown",
   "id": "a332f25c",
   "metadata": {},
   "source": [
    "Let's construct the essential parts of MotleyCoder."
   ]
  },
  {
   "cell_type": "code",
   "execution_count": 5,
   "id": "f8d565d6f6c821d0",
   "metadata": {},
   "outputs": [],
   "source": [
    "llm_name = \"gpt-4o\"\n",
    "\n",
    "repo = GitRepo(\"../motleycrew\")  # The object responsible for interacting with the git repository\n",
    "\n",
    "file_group = FileGroup(repo)  # Represents a group of files on the local disk we're dealing with\n",
    "repo_map = RepoMap(  # Will provide the agent with a view of the repository\n",
    "    root=repo.root,\n",
    "    file_group=file_group,\n",
    "    llm_name=llm_name,\n",
    ")"
   ]
  },
  {
   "cell_type": "code",
   "execution_count": 6,
   "id": "cbaa6d76fcb0b248",
   "metadata": {
    "ExecuteTime": {
     "end_time": "2024-08-21T18:03:43.790730Z",
     "start_time": "2024-08-21T18:03:43.790442Z"
    }
   },
   "outputs": [],
   "source": [
    "ui = UserInterface()  # Interface for interacting with the user (in this case, via command line)\n",
    "\n",
    "inspect_entity_tool = InspectEntityTool(  # Tool for inspecting entities in the code\n",
    "    repo_map=repo_map\n",
    ")\n",
    "file_edit_tool = FileEditTool(  # Tool for editing files\n",
    "    file_group=file_group,\n",
    "    user_interface=ui,\n",
    "    repo_map=repo_map,\n",
    ")"
   ]
  },
  {
   "cell_type": "markdown",
   "id": "fafdbda0",
   "metadata": {},
   "source": [
    "`InspectEntityTool` and `FileEditTool` are tools that can be given to just about any agent that works with function calling models. We suggest using them with motleycrew's `ReActToolCallingAgent`.\n",
    "\n",
    "First, we'll build a trivial agent in that fashion. It will solve a simple task involving adding additional logging in one of motleycrew's classes."
   ]
  },
  {
   "cell_type": "code",
   "execution_count": 7,
   "id": "38a8a2b135e24b5e",
   "metadata": {
    "ExecuteTime": {
     "end_time": "2024-08-21T18:03:43.792086Z",
     "start_time": "2024-08-21T18:03:43.792020Z"
    }
   },
   "outputs": [],
   "source": [
    "llm = init_llm(LLMFramework.LANGCHAIN, LLMFamily.OPENAI, llm_name=llm_name)\n",
    "agent = ReActToolCallingMotleyAgent(\n",
    "    name=\"coder\",\n",
    "    tools=[inspect_entity_tool, file_edit_tool],\n",
    "    chat_history=False,\n",
    "    llm=llm,\n",
    ")"
   ]
  },
  {
   "cell_type": "code",
   "execution_count": 8,
   "id": "43c9b8c6c6b3e550",
   "metadata": {},
   "outputs": [
    {
     "name": "stdout",
     "output_type": "stream",
     "text": [
      "Here is an overview of the repo:\n",
      "\n",
      "motleycrew/agents/parent.py:\n",
      "...⋮...\n",
      " 45│class MotleyAgentParent(MotleyAgentAbstractParent, ABC):\n",
      " 46│    \"\"\"Parent class for all motleycrew agents.\n",
      " 47│\n",
      " 48│    This class is abstract and should be subclassed by all agents in motleycrew.\n",
      " 49│\n",
      " 50│    In most cases, it's better to use one of the specialized agent classes,\n",
      " 51│    such as LangchainMotleyAgent or LlamaIndexMotleyAgent, which provide various\n",
      " 52│    useful features, such as observability and output handling, out of the box.\n",
      " 53│\n",
      " 54│    If you need to create a custom agent, subclass this class and implement the `invoke` method.\n",
      "...⋮...\n",
      " 57│    def __init__(\n",
      " 58│        self,\n",
      " 59│        prompt_prefix: str | ChatPromptTemplate | None = None,\n",
      " 60│        description: str | None = None,\n",
      " 61│        name: str | None = None,\n",
      " 62│        agent_factory: MotleyAgentFactory | None = None,\n",
      " 63│        tools: Sequence[MotleySupportedTool] | None = None,\n",
      " 64│        output_handler: MotleySupportedTool | None = None,\n",
      " 65│        verbose: bool = False,\n",
      " 66│        agent_name: str | None = None,\n",
      "...⋮...\n",
      "\n",
      "motleycrew/crew/crew.py:\n",
      "...⋮...\n",
      " 15│class MotleyCrew:\n",
      " 16│    \"\"\"The main class for executing tasks and orchestrating agents.\"\"\"\n",
      " 17│\n",
      "...⋮...\n",
      " 48│    def run(self) -> list[TaskUnit]:\n",
      "...⋮...\n",
      "\n",
      "motleycrew/crew/crew_threads.py:\n",
      "...⋮...\n",
      " 26│class TaskUnitThread(threading.Thread):\n",
      " 27│    \"\"\"The thread class for running agents on task units.\"\"\"\n",
      " 28│\n",
      "...⋮...\n",
      " 49│    def run(self) -> None:\n",
      "...⋮...\n",
      "\n",
      "motleycrew/storage/graph_node.py:\n",
      "...⋮...\n",
      "  9│class MotleyGraphNode(BaseModel, ABC):\n",
      " 10│    \"\"\"Base class for describing nodes in the graph.\n",
      " 11│\n",
      " 12│    Attributes:\n",
      " 13│        __label__: Label of the node in the graph. If not set, the class name is used.\n",
      " 14│        __graph_store__: Graph store in which the node is stored.\n",
      "...⋮...\n",
      " 36│    @classmethod\n",
      " 37│    def get_label(cls) -> str:\n",
      "...⋮...\n",
      "\n",
      "motleycrew/tasks/simple.py:\n",
      "...⋮...\n",
      " 82│class SimpleTask(Task):\n",
      " 83│    \"\"\"Simple task class.\n",
      " 84│\n",
      " 85│    A simple task consists of a description and an agent that can execute the task.\n",
      " 86│    It produces a single task unit with a prompt based on the description\n",
      " 87│    and the results of upstream tasks.\n",
      " 88│\n",
      " 89│    The task is considered done when the task unit is completed.\n",
      "...⋮...\n",
      " 92│    def __init__(\n",
      " 93│        self,\n",
      " 94│        crew: MotleyCrew,\n",
      " 95│        description: str,\n",
      " 96│        name: str | None = None,\n",
      " 97│        agent: MotleyAgentAbstractParent | None = None,\n",
      " 98│        tools: Sequence[MotleyTool] | None = None,\n",
      " 99│        additional_params: dict[str, Any] | None = None,\n",
      "100│        prompt_template_with_upstreams: PromptTemplate = PROMPT_TEMPLATE_WITH_UPSTREAM_TASKS,\n",
      "...⋮...\n",
      "\n",
      "motleycrew/tasks/task.py:\n",
      "...⋮...\n",
      " 37│class Task(ABC, Generic[TaskUnitType]):\n",
      " 38│    \"\"\"Base class for describing tasks.\n",
      " 39│\n",
      " 40│    This class is abstract and must be subclassed to implement the task logic.\n",
      " 41│\n",
      " 42│    Attributes:\n",
      " 43│        NODE_CLASS: Class for representing task nodes, can be overridden.\n",
      " 44│        TASK_IS_UPSTREAM_LABEL: Label for indicating upstream tasks, can be overridden.\n",
      "...⋮...\n",
      " 50│    def __init__(\n",
      " 51│        self,\n",
      " 52│        name: str,\n",
      " 53│        task_unit_class: Type[TaskUnitType],\n",
      " 54│        crew: Optional[MotleyCrew] = None,\n",
      " 55│        allow_async_units: bool = False,\n",
      "...⋮...\n",
      "\n",
      "\n",
      "In the MotleyCrew class, add logging when a task unit is added to the graph.\n"
     ]
    },
    {
     "name": "stderr",
     "output_type": "stream",
     "text": [
      "/Users/whimo/codegen/motleycoder/.venv/lib/python3.12/site-packages/numpy/core/fromnumeric.py:3504: RuntimeWarning: Mean of empty slice.\n",
      "  return _methods._mean(a, axis=axis, dtype=dtype,\n",
      "/Users/whimo/codegen/motleycoder/.venv/lib/python3.12/site-packages/numpy/core/_methods.py:129: RuntimeWarning: invalid value encountered in scalar divide\n",
      "  ret = ret.dtype.type(ret / rcount)\n"
     ]
    }
   ],
   "source": [
    "message = \"In the MotleyCrew class, add logging when a task unit is added to the graph.\"\n",
    "\n",
    "repo_map_str = repo_map.repo_map_from_message(message, llm=llm)\n",
    "\n",
    "prompt = f\"\"\"Here is an overview of the repo:\n",
    "{repo_map_str}\n",
    "\n",
    "{message}\"\"\"\n",
    "\n",
    "print(prompt)"
   ]
  },
  {
   "cell_type": "code",
   "execution_count": 9,
   "id": "3975f95521674d20",
   "metadata": {},
   "outputs": [
    {
     "name": "stderr",
     "output_type": "stream",
     "text": [
      "2024-08-26 15:49:33,096 - motleycrew - INFO - Agent factory accepts output handler, passing it\n",
      "2024-08-26 15:49:38,493 - motleycrew - INFO - Trying to edit file motleycrew/crew/crew.py\n",
      "<<<<<<< SEARCH\n",
      "def add_task_unit_to_graph\n",
      "=======\n",
      "def add_task_unit_to_graph\n",
      ">>>>>>> REPLACE\n",
      "\n",
      "2024-08-26 15:49:58,265 - motleycrew - INFO - Trying to edit file motleycrew/crew/crew.py\n",
      "<<<<<<< SEARCH\n",
      "def add_task_unit_to_graph(self, task: Task, unit: TaskUnitType):\n",
      "        \"\"\"Add a task unit to the graph and connect it to its task.\n",
      "\n",
      "        Args:\n",
      "            task: The task to which the unit belongs.\n",
      "            unit: The unit to add.\n",
      "        \"\"\"\n",
      "        assert isinstance(unit, task.task_unit_class)\n",
      "        assert not unit.done\n",
      "\n",
      "        self.graph_store.upsert_triplet(\n",
      "            from_node=unit,\n",
      "            to_node=task.node,\n",
      "            label=task.task_unit_belongs_label,\n",
      "        )\n",
      "=======\n",
      "def add_task_unit_to_graph(self, task: Task, unit: TaskUnitType):\n",
      "        \"\"\"Add a task unit to the graph and connect it to its task.\n",
      "\n",
      "        Args:\n",
      "            task: The task to which the unit belongs.\n",
      "            unit: The unit to add.\n",
      "        \"\"\"\n",
      "        assert isinstance(unit, task.task_unit_class)\n",
      "        assert not unit.done\n",
      "\n",
      "        logger.info(\"Adding task unit %s to the graph for task %s\", unit, task)\n",
      "\n",
      "        self.graph_store.upsert_triplet(\n",
      "            from_node=unit,\n",
      "            to_node=task.node,\n",
      "            label=task.task_unit_belongs_label,\n",
      "        )\n",
      ">>>>>>> REPLACE\n",
      "\n"
     ]
    },
    {
     "data": {
      "text/plain": [
       "'Final Answer: A logging statement has been added to the `add_task_unit_to_graph` method in the MotleyCrew class. Now, when a task unit is added to the graph, it will log the action with the message \"Adding task unit %s to the graph for task %s\", where `%s` will be replaced by the unit and task details respectively.'"
      ]
     },
     "execution_count": 9,
     "metadata": {},
     "output_type": "execute_result"
    }
   ],
   "source": [
    "agent.invoke({\"prompt\": prompt})"
   ]
  },
  {
   "cell_type": "markdown",
   "id": "0c5b6044",
   "metadata": {},
   "source": [
    "The above example is trivial and involved no prompt engineering. We are yet to show you an important part of MotleyCoder: a refined set of prompts that make the agent much more robust and reliable.\n",
    "\n",
    "Also, using a linter is crucial for eliminating bad edits. MotleyCoder's built-in `Linter` class provides basic linting by parsing code using tree-sitter, and also advanced linting for Python using flake8. Adding custom linters for other languages is also easy.\n",
    "\n",
    "Another way to boost your agent's reliability right away is running tests after it's done with the edits. This is a natural usage pattern for motleycrew's output handler: the agent calls a special tool to inform that it has finished editing, and the tests are run inside that tool. If the tests fail, their output is fed back into the agent so it can fix them."
   ]
  },
  {
   "cell_type": "markdown",
   "id": "8f91a318",
   "metadata": {},
   "source": [
    "## A reliable coding agent setup\n",
    "\n",
    "In this example, we'll showcase a MotleyCoder-based developer agent that can solve more complex tasks."
   ]
  },
  {
   "cell_type": "code",
   "execution_count": 10,
   "id": "2a3b1e2a",
   "metadata": {},
   "outputs": [],
   "source": [
    "from motleycoder.prompts import MotleyCoderPrompts\n",
    "from motleycoder.linter import Linter\n",
    "from motleycoder.tools import ReturnToUserTool\n",
    "\n",
    "from motleycrew.tasks import SimpleTask\n",
    "from motleycrew import MotleyCrew\n",
    "from langchain_core.tools import render_text_description"
   ]
  },
  {
   "cell_type": "code",
   "execution_count": 11,
   "id": "1ef48f1b",
   "metadata": {},
   "outputs": [],
   "source": [
    "prompts = MotleyCoderPrompts()\n",
    "linter = Linter()"
   ]
  },
  {
   "cell_type": "code",
   "execution_count": 12,
   "id": "2ed65e0e",
   "metadata": {},
   "outputs": [],
   "source": [
    "file_edit_tool = FileEditTool(\n",
    "    file_group=file_group,\n",
    "    user_interface=ui,\n",
    "    repo_map=repo_map,\n",
    "    linter=linter,\n",
    "    prompts=prompts,\n",
    ")\n",
    "\n",
    "inspect_entity_tool = InspectEntityTool(  # Tool for inspecting entities in the code\n",
    "    repo_map=repo_map\n",
    ")"
   ]
  },
  {
   "cell_type": "code",
   "execution_count": 13,
   "id": "15581863",
   "metadata": {},
   "outputs": [],
   "source": [
    "import subprocess\n",
    "\n",
    "\n",
    "def run_tests():\n",
    "    \"\"\"Run tests in the repository and return the output.\"\"\"\n",
    "    work_dir = repo.root\n",
    "    python_path = f\"{work_dir}/.venv/bin/python\"\n",
    "    try:\n",
    "        subprocess.run(\n",
    "            [python_path, \"-m\", \"pytest\"],\n",
    "            shell=False,\n",
    "            check=True,\n",
    "            cwd=work_dir,\n",
    "            stdout=subprocess.PIPE,\n",
    "            stderr=subprocess.PIPE,\n",
    "        )\n",
    "        print(\"Tests passed.\")\n",
    "        return\n",
    "    except subprocess.CalledProcessError as e:\n",
    "        stdout = e.stdout.decode(\"utf-8\") if e.stdout else \"\"\n",
    "        stderr = e.stderr.decode(\"utf-8\") if e.stderr else \"\"\n",
    "        print(\"Tests failed:\")\n",
    "        if stdout:\n",
    "            print(\"STDOUT:\\n\" + stdout)\n",
    "        if stderr:\n",
    "            print(\"STDERR:\\n\" + stderr)\n",
    "        return stdout + stderr"
   ]
  },
  {
   "cell_type": "markdown",
   "id": "06afea3d",
   "metadata": {},
   "source": [
    "The prompt prefix we give to the agent here provides various instructions for the agent, describes the tools it can use etc."
   ]
  },
  {
   "cell_type": "code",
   "execution_count": 14,
   "id": "56418c5d",
   "metadata": {},
   "outputs": [],
   "source": [
    "tools = [inspect_entity_tool, file_edit_tool]\n",
    "\n",
    "agent = ReActToolCallingMotleyAgent(\n",
    "    name=\"coder\",\n",
    "    tools=tools,\n",
    "    prompt_prefix=prompts.prompt_template.partial(tools=render_text_description(tools)),\n",
    "    chat_history=False,\n",
    "    output_handler=ReturnToUserTool(tests_runner=run_tests),\n",
    "    llm=llm,\n",
    ")"
   ]
  },
  {
   "cell_type": "markdown",
   "id": "29e0604f",
   "metadata": {},
   "source": [
    "We'll ask the agent to write an entire method in a Python class. This is a more complex task than the previous one, and the agent will need to understand the context of the class and the purpose of the method it's supposed to write."
   ]
  },
  {
   "cell_type": "code",
   "execution_count": 15,
   "id": "a8d73225",
   "metadata": {},
   "outputs": [
    {
     "name": "stderr",
     "output_type": "stream",
     "text": [
      "/Users/whimo/codegen/motleycoder/.venv/lib/python3.12/site-packages/numpy/core/fromnumeric.py:3504: RuntimeWarning: Mean of empty slice.\n",
      "  return _methods._mean(a, axis=axis, dtype=dtype,\n",
      "/Users/whimo/codegen/motleycoder/.venv/lib/python3.12/site-packages/numpy/core/_methods.py:129: RuntimeWarning: invalid value encountered in scalar divide\n",
      "  ret = ret.dtype.type(ret / rcount)\n"
     ]
    }
   ],
   "source": [
    "message = (\n",
    "    \"In the Task class, add a method 'get_done_upstream_task_units' \"\n",
    "    \"that lists all upstream task units whose status is 'done'.\"\n",
    ")\n",
    "\n",
    "repo_map_str = repo_map.repo_map_from_message(message, llm=llm)\n",
    "\n",
    "prompt = f\"\"\"Here is the overview of the repo:\n",
    "{repo_map_str}\n",
    "\n",
    "{message}\"\"\""
   ]
  },
  {
   "cell_type": "code",
   "execution_count": 16,
   "id": "013e4ada",
   "metadata": {},
   "outputs": [
    {
     "name": "stderr",
     "output_type": "stream",
     "text": [
      "2024-08-26 15:50:02,360 - motleycrew - INFO - No db_path provided, creating temporary directory for database\n",
      "2024-08-26 15:50:02,361 - motleycrew - INFO - Using Kuzu graph store with path: /var/folders/fv/tyhll76x0fn6l7j_q2nhvyg00000gn/T/tmp95zs6xzr/kuzu_db\n",
      "2024-08-26 15:50:02,374 - motleycrew - INFO - Node table TaskNode does not exist in the database, creating\n",
      "2024-08-26 15:50:02,379 - motleycrew - INFO - Property name not present in table for label TaskNode, creating\n",
      "2024-08-26 15:50:02,380 - motleycrew - INFO - Property done not present in table for label TaskNode, creating\n",
      "2024-08-26 15:50:02,382 - motleycrew - INFO - Node table SimpleTaskUnit does not exist in the database, creating\n",
      "2024-08-26 15:50:02,384 - motleycrew - INFO - Property status not present in table for label SimpleTaskUnit, creating\n",
      "2024-08-26 15:50:02,385 - motleycrew - INFO - Property output not present in table for label SimpleTaskUnit, creating\n",
      "2024-08-26 15:50:02,385 - motleycrew - WARNING - No known Cypher type matching annotation typing.Optional[typing.Any], will use JSON string\n",
      "2024-08-26 15:50:02,387 - motleycrew - INFO - Property name not present in table for label SimpleTaskUnit, creating\n",
      "2024-08-26 15:50:02,388 - motleycrew - INFO - Property prompt not present in table for label SimpleTaskUnit, creating\n",
      "2024-08-26 15:50:02,389 - motleycrew - INFO - Property additional_params not present in table for label SimpleTaskUnit, creating\n",
      "2024-08-26 15:50:02,389 - motleycrew - WARNING - No known Cypher type matching annotation typing.Optional[dict[str, typing.Any]], will use JSON string\n",
      "2024-08-26 15:50:02,391 - motleycrew - INFO - Relation table SimpleTaskUnit_belongs from SimpleTaskUnit to TaskNode does not exist in the database, creating\n",
      "2024-08-26 15:50:02,393 - motleycrew - INFO - Inserting new node with label TaskNode: name='Add method to Task class' done=False\n",
      "2024-08-26 15:50:02,397 - motleycrew - INFO - Node created OK\n",
      "2024-08-26 15:50:02,397 - motleycrew - INFO - Relation table task_is_upstream from TaskNode to TaskNode does not exist in the database, creating\n",
      "2024-08-26 15:50:02,409 - motleycrew - INFO - Available tasks: [SimpleTask(name=Add method to Task class, done=False)]\n",
      "2024-08-26 15:50:02,412 - motleycrew - INFO - Available tasks: [SimpleTask(name=Add method to Task class, done=False)]\n",
      "2024-08-26 15:50:02,412 - motleycrew - INFO - Processing task: SimpleTask(name=Add method to Task class, done=False)\n",
      "2024-08-26 15:50:02,417 - motleycrew - INFO - Got a matching unit for task SimpleTask(name=Add method to Task class, done=False)\n",
      "2024-08-26 15:50:02,417 - motleycrew - INFO - Processing unit: TaskUnit(status=pending)\n",
      "2024-08-26 15:50:02,418 - motleycrew - INFO - Assigned unit TaskUnit(status=pending) to agent ReActToolCallingMotleyAgent(name=coder), dispatching\n",
      "2024-08-26 15:50:02,418 - motleycrew - INFO - Adding task unit TaskUnit(status=running) to the graph for task SimpleTask(name=Add method to Task class, done=False)\n",
      "2024-08-26 15:50:02,418 - motleycrew - INFO - Node TaskUnit(status=running) does not exist, creating\n",
      "2024-08-26 15:50:02,419 - motleycrew - INFO - Inserting new node with label SimpleTaskUnit: TaskUnit(status=running)\n",
      "2024-08-26 15:50:02,419 - motleycrew - WARNING - No known Cypher type matching annotation typing.Optional[typing.Any], will use JSON string\n",
      "2024-08-26 15:50:02,419 - motleycrew - WARNING - No known Cypher type matching annotation typing.Optional[dict[str, typing.Any]], will use JSON string\n",
      "2024-08-26 15:50:02,423 - motleycrew - INFO - Node created OK\n",
      "2024-08-26 15:50:02,428 - motleycrew - INFO - Relation from TaskUnit(status=running) to name='Add method to Task class' done=False does not exist, creating\n",
      "2024-08-26 15:50:02,429 - motleycrew - INFO - Creating relation SimpleTaskUnit_belongs from SimpleTaskUnit:0 to TaskNode:0\n",
      "2024-08-26 15:50:02,432 - motleycrew - INFO - Relation created OK\n",
      "2024-08-26 15:50:02,433 - motleycrew - INFO - Agent factory accepts output handler, passing it\n",
      "2024-08-26 15:50:10,332 - motleycrew - INFO - Trying to edit file motleycrew/tasks/task.py\n",
      "<<<<<<< SEARCH\n",
      "    @abstractmethod\n",
      "    def get_next_unit(self) -> TaskUnitType | None:\n",
      "=======\n",
      "    def get_done_upstream_task_units(self) -> List[TaskUnitType]:\n",
      "        \"\"\"Get all upstream task units whose status is 'done'.\n",
      "\n",
      "        Returns:\n",
      "            List of upstream task units with status 'done'.\n",
      "        \"\"\"\n",
      "        done_units = []\n",
      "        for upstream_task in self.get_upstream_tasks():\n",
      "            done_units.extend(upstream_task.get_units(status='done'))\n",
      "        return done_units\n",
      "\n",
      "    @abstractmethod\n",
      "    def get_next_unit(self) -> TaskUnitType | None:\n",
      ">>>>>>> REPLACE\n",
      "\n",
      "2024-08-26 15:50:34,008 - motleycrew - WARNING - No known Cypher type matching annotation typing.Optional[typing.Any], will use JSON string\n",
      "2024-08-26 15:50:34,013 - motleycrew - INFO - Task unit TaskUnit(status=running) completed, marking as done\n",
      "2024-08-26 15:50:34,018 - motleycrew - INFO - Available tasks: []\n",
      "2024-08-26 15:50:34,020 - motleycrew - INFO - Available tasks: []\n",
      "2024-08-26 15:50:34,020 - motleycrew - INFO - Nothing left to do, exiting\n"
     ]
    },
    {
     "name": "stdout",
     "output_type": "stream",
     "text": [
      "Tests passed.\n"
     ]
    },
    {
     "data": {
      "text/plain": [
       "[TaskUnit(status=done)]"
      ]
     },
     "execution_count": 16,
     "metadata": {},
     "output_type": "execute_result"
    }
   ],
   "source": [
    "crew = MotleyCrew()\n",
    "\n",
    "task = SimpleTask(\n",
    "    name=\"Add method to Task class\",\n",
    "    description=prompt,\n",
    "    crew=crew,\n",
    "    agent=agent,\n",
    ")\n",
    "\n",
    "crew.run()"
   ]
  },
  {
   "cell_type": "markdown",
   "id": "d3aa3e0e",
   "metadata": {},
   "source": [
    "If you look closely at the logs, you'll see the log lines the agent added in the previous example :)\n",
    "\n",
    "Now let's create a task to write a test for the method the agent just wrote. As a bonus, we can try out our new method at the same time!\n",
    "\n",
    "The new test will of course also be executed in the output handler. This allows for a very tight feedback loop, where the agent can immediately see if the test fails and fix it."
   ]
  },
  {
   "cell_type": "code",
   "execution_count": 17,
   "id": "1615ad2b",
   "metadata": {},
   "outputs": [
    {
     "name": "stderr",
     "output_type": "stream",
     "text": [
      "2024-08-26 15:50:34,094 - motleycrew - INFO - Inserting new node with label TaskNode: name='Add test' done=False\n",
      "2024-08-26 15:50:34,096 - motleycrew - INFO - Node created OK\n",
      "2024-08-26 15:50:34,099 - motleycrew - INFO - Creating relation task_is_upstream from TaskNode:0 to TaskNode:1\n",
      "2024-08-26 15:50:34,102 - motleycrew - INFO - Relation created OK\n"
     ]
    },
    {
     "name": "stdout",
     "output_type": "stream",
     "text": [
      "[TaskUnit(status=done)]\n"
     ]
    }
   ],
   "source": [
    "test_task = SimpleTask(\n",
    "    name=\"Add test\",\n",
    "    description=\"Add a test for the 'get_done_upstream_task_units' method in the appropriate place.\",\n",
    "    crew=crew,\n",
    "    agent=agent,\n",
    ")\n",
    "test_task.set_upstream(task)\n",
    "\n",
    "print(test_task.get_done_upstream_task_units())  # Let's try out the new method!"
   ]
  },
  {
   "cell_type": "markdown",
   "id": "8d3ae4f2",
   "metadata": {},
   "source": [
    "The new method seems to be working! Now let's kickoff the test writing task."
   ]
  },
  {
   "cell_type": "code",
   "execution_count": 18,
   "id": "f47c7c48",
   "metadata": {},
   "outputs": [
    {
     "name": "stderr",
     "output_type": "stream",
     "text": [
      "2024-08-26 15:50:34,120 - motleycrew - INFO - Available tasks: [SimpleTask(name=Add test, done=False)]\n",
      "2024-08-26 15:50:34,122 - motleycrew - INFO - Available tasks: [SimpleTask(name=Add test, done=False)]\n",
      "2024-08-26 15:50:34,122 - motleycrew - INFO - Processing task: SimpleTask(name=Add test, done=False)\n",
      "2024-08-26 15:50:34,126 - motleycrew - INFO - Got a matching unit for task SimpleTask(name=Add test, done=False)\n",
      "2024-08-26 15:50:34,127 - motleycrew - INFO - Processing unit: TaskUnit(status=pending)\n",
      "2024-08-26 15:50:34,127 - motleycrew - INFO - Assigned unit TaskUnit(status=pending) to agent ReActToolCallingMotleyAgent(name=coder), dispatching\n",
      "2024-08-26 15:50:34,127 - motleycrew - INFO - Adding task unit TaskUnit(status=running) to the graph for task SimpleTask(name=Add test, done=False)\n",
      "2024-08-26 15:50:34,127 - motleycrew - INFO - Node TaskUnit(status=running) does not exist, creating\n",
      "2024-08-26 15:50:34,128 - motleycrew - INFO - Inserting new node with label SimpleTaskUnit: TaskUnit(status=running)\n",
      "2024-08-26 15:50:34,128 - motleycrew - WARNING - No known Cypher type matching annotation typing.Optional[typing.Any], will use JSON string\n",
      "2024-08-26 15:50:34,128 - motleycrew - WARNING - No known Cypher type matching annotation typing.Optional[dict[str, typing.Any]], will use JSON string\n",
      "2024-08-26 15:50:34,129 - motleycrew - INFO - Node created OK\n",
      "2024-08-26 15:50:34,132 - motleycrew - INFO - Relation from TaskUnit(status=running) to name='Add test' done=False does not exist, creating\n",
      "2024-08-26 15:50:34,134 - motleycrew - INFO - Creating relation SimpleTaskUnit_belongs from SimpleTaskUnit:1 to TaskNode:1\n",
      "2024-08-26 15:50:34,135 - motleycrew - INFO - Relation created OK\n",
      "2024-08-26 15:50:52,872 - motleycrew - INFO - Trying to edit file tests/test_tasks/test_task.py\n",
      "<<<<<<< SEARCH\n",
      "class TestTask:\n",
      "    def test_set_done(self, task_1):\n",
      "        assert not task_1.done\n",
      "        assert not task_1.node.done\n",
      "        task_1.set_done()\n",
      "        assert task_1.done\n",
      "        assert task_1.node.done\n",
      "=======\n",
      "class TestTask:\n",
      "    def test_set_done(self, task_1):\n",
      "        assert not task_1.done\n",
      "        assert not task_1.node.done\n",
      "        task_1.set_done()\n",
      "        assert task_1.done\n",
      "        assert task_1.node.done\n",
      "\n",
      "    def test_get_done_upstream_task_units(self, task_1, task_2):\n",
      "        # Mock the get_upstream_tasks method to return a list of tasks\n",
      "        task_1.get_upstream_tasks = lambda: [task_2]\n",
      "\n",
      "        # Mock the get_units method of the upstream task to return a list of done units\n",
      "        task_2.get_units = lambda status: ['unit1', 'unit2'] if status == 'done' else []\n",
      "\n",
      "        # Call the method and check the result\n",
      "        done_units = task_1.get_done_upstream_task_units()\n",
      "        assert done_units == ['unit1', 'unit2']\n",
      ">>>>>>> REPLACE\n",
      "\n",
      "2024-08-26 15:51:21,783 - motleycrew - WARNING - No known Cypher type matching annotation typing.Optional[typing.Any], will use JSON string\n",
      "2024-08-26 15:51:21,786 - motleycrew - INFO - Task unit TaskUnit(status=running) completed, marking as done\n",
      "2024-08-26 15:51:21,792 - motleycrew - INFO - Available tasks: []\n",
      "2024-08-26 15:51:21,794 - motleycrew - INFO - Available tasks: []\n",
      "2024-08-26 15:51:21,794 - motleycrew - INFO - Nothing left to do, exiting\n"
     ]
    },
    {
     "name": "stdout",
     "output_type": "stream",
     "text": [
      "Tests passed.\n"
     ]
    },
    {
     "data": {
      "text/plain": [
       "[TaskUnit(status=done)]"
      ]
     },
     "execution_count": 18,
     "metadata": {},
     "output_type": "execute_result"
    }
   ],
   "source": [
    "crew.run()"
   ]
  },
  {
   "cell_type": "code",
   "execution_count": null,
   "id": "5c6e0851",
   "metadata": {},
   "outputs": [],
   "source": []
  }
 ],
 "metadata": {
  "kernelspec": {
   "display_name": "Python 3",
   "language": "python",
   "name": "python3"
  },
  "language_info": {
   "codemirror_mode": {
    "name": "ipython",
    "version": 3
   },
   "file_extension": ".py",
   "mimetype": "text/x-python",
   "name": "python",
   "nbconvert_exporter": "python",
   "pygments_lexer": "ipython3",
   "version": "3.12.1"
  }
 },
 "nbformat": 4,
 "nbformat_minor": 5
}
